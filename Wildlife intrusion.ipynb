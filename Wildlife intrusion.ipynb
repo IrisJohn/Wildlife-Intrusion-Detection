{
 "cells": [
  {
   "cell_type": "code",
   "execution_count": 40,
   "metadata": {},
   "outputs": [],
   "source": [
    "import numpy as np\n",
    "import cv2\n",
    "import pickle"
   ]
  },
  {
   "cell_type": "code",
   "execution_count": 2,
   "metadata": {},
   "outputs": [
    {
     "name": "stdout",
     "output_type": "stream",
     "text": [
      "Requirement already satisfied: opencv-python in c:\\users\\irisj\\anaconda3\\lib\\site-packages (4.5.2.52)\n",
      "Requirement already satisfied: numpy>=1.17.3 in c:\\users\\irisj\\anaconda3\\lib\\site-packages (from opencv-python) (1.19.2)\n"
     ]
    }
   ],
   "source": [
    "!pip install opencv-python\n"
   ]
  },
  {
   "cell_type": "code",
   "execution_count": 12,
   "metadata": {},
   "outputs": [],
   "source": [
    "import os\n",
    "import random\n",
    "import matplotlib.pyplot as plt"
   ]
  },
  {
   "cell_type": "code",
   "execution_count": 13,
   "metadata": {},
   "outputs": [],
   "source": [
    "import pickle\n"
   ]
  },
  {
   "cell_type": "code",
   "execution_count": 14,
   "metadata": {},
   "outputs": [],
   "source": [
    "Directory= r'E:\\Projects\\Wildlife intrusion'\n",
    "Categories=['Boars','Elephant']"
   ]
  },
  {
   "cell_type": "code",
   "execution_count": 23,
   "metadata": {},
   "outputs": [],
   "source": [
    "\n",
    "data=[]\n",
    "\n",
    "for category in Categories:\n",
    "    folder=os.path.join(Directory,category)\n",
    "    label=Categories.index(category)\n",
    "    for img in os.listdir(folder):\n",
    "        img_path=os.path.join(folder,img)\n",
    "        img_arr=cv2.imread(img_path)\n",
    "        img_arr=cv2.resize(img_arr,(250,250))\n",
    "        data.append([img_arr,label])\n",
    "        "
   ]
  },
  {
   "cell_type": "code",
   "execution_count": 24,
   "metadata": {},
   "outputs": [
    {
     "data": {
      "text/plain": [
       "97"
      ]
     },
     "execution_count": 24,
     "metadata": {},
     "output_type": "execute_result"
    }
   ],
   "source": [
    "len(data)"
   ]
  },
  {
   "cell_type": "code",
   "execution_count": 25,
   "metadata": {},
   "outputs": [],
   "source": [
    "random.shuffle(data)"
   ]
  },
  {
   "cell_type": "code",
   "execution_count": 29,
   "metadata": {},
   "outputs": [],
   "source": [
    "X=[]\n",
    "Y=[]"
   ]
  },
  {
   "cell_type": "code",
   "execution_count": 30,
   "metadata": {},
   "outputs": [],
   "source": [
    "for features ,labels in data:\n",
    "    X.append(features)\n",
    "    Y.append(labels)\n",
    "    "
   ]
  },
  {
   "cell_type": "code",
   "execution_count": 32,
   "metadata": {},
   "outputs": [],
   "source": [
    "X=np.array(X)\n",
    "Y=np.array(Y)"
   ]
  },
  {
   "cell_type": "code",
   "execution_count": 33,
   "metadata": {},
   "outputs": [
    {
     "data": {
      "text/plain": [
       "97"
      ]
     },
     "execution_count": 33,
     "metadata": {},
     "output_type": "execute_result"
    }
   ],
   "source": [
    "len(X)"
   ]
  },
  {
   "cell_type": "code",
   "execution_count": 34,
   "metadata": {},
   "outputs": [
    {
     "data": {
      "text/plain": [
       "97"
      ]
     },
     "execution_count": 34,
     "metadata": {},
     "output_type": "execute_result"
    }
   ],
   "source": [
    "len(Y)"
   ]
  },
  {
   "cell_type": "code",
   "execution_count": 37,
   "metadata": {},
   "outputs": [
    {
     "data": {
      "text/plain": [
       "array([0, 0, 1, 0, 1, 0, 0, 0, 1, 1, 0, 0, 0, 0, 0, 0, 1, 1, 0, 1, 1, 1,\n",
       "       0, 1, 1, 0, 0, 1, 0, 1, 1, 1, 0, 1, 1, 1, 1, 1, 1, 0, 0, 1, 1, 0,\n",
       "       1, 0, 0, 1, 1, 1, 1, 0, 0, 1, 1, 0, 0, 0, 0, 0, 1, 1, 1, 0, 1, 1,\n",
       "       0, 0, 1, 0, 0, 1, 0, 1, 0, 0, 0, 1, 0, 1, 0, 0, 1, 1, 0, 1, 1, 1,\n",
       "       0, 0, 0, 1, 1, 0, 1, 1, 0])"
      ]
     },
     "execution_count": 37,
     "metadata": {},
     "output_type": "execute_result"
    }
   ],
   "source": [
    "Y"
   ]
  },
  {
   "cell_type": "code",
   "execution_count": 38,
   "metadata": {},
   "outputs": [
    {
     "data": {
      "text/plain": [
       "array([[[[  2,   2,   2],\n",
       "         [  2,   2,   2],\n",
       "         [  1,   1,   1],\n",
       "         ...,\n",
       "         [  5,  19,   6],\n",
       "         [  3,  16,   2],\n",
       "         [  0,  13,   0]],\n",
       "\n",
       "        [[  2,   2,   2],\n",
       "         [  2,   2,   2],\n",
       "         [  1,   1,   1],\n",
       "         ...,\n",
       "         [  3,  18,   5],\n",
       "         [  2,  16,   2],\n",
       "         [  0,  12,   0]],\n",
       "\n",
       "        [[  2,   2,   2],\n",
       "         [  2,   2,   2],\n",
       "         [  1,   1,   1],\n",
       "         ...,\n",
       "         [  2,  17,   4],\n",
       "         [  2,  15,   2],\n",
       "         [  0,  11,   0]],\n",
       "\n",
       "        ...,\n",
       "\n",
       "        [[ 89, 102,  91],\n",
       "         [ 88, 104,  91],\n",
       "         [ 95, 109,  98],\n",
       "         ...,\n",
       "         [ 26,  92,  25],\n",
       "         [ 42, 103,  39],\n",
       "         [ 65, 127,  62]],\n",
       "\n",
       "        [[117, 125, 117],\n",
       "         [108, 119, 108],\n",
       "         [113, 122, 113],\n",
       "         ...,\n",
       "         [ 25,  90,  24],\n",
       "         [ 39, 100,  36],\n",
       "         [ 61, 123,  57]],\n",
       "\n",
       "        [[148, 152, 146],\n",
       "         [131, 138, 129],\n",
       "         [130, 135, 128],\n",
       "         ...,\n",
       "         [ 27,  91,  24],\n",
       "         [ 38,  99,  34],\n",
       "         [ 56, 117,  51]]],\n",
       "\n",
       "\n",
       "       [[[ 62, 112,  82],\n",
       "         [ 65, 115,  85],\n",
       "         [ 69, 119,  89],\n",
       "         ...,\n",
       "         [ 16,  81,  65],\n",
       "         [ 28,  91,  75],\n",
       "         [ 37, 100,  84]],\n",
       "\n",
       "        [[ 62, 112,  82],\n",
       "         [ 65, 115,  85],\n",
       "         [ 69, 119,  89],\n",
       "         ...,\n",
       "         [ 16,  78,  62],\n",
       "         [ 27,  88,  73],\n",
       "         [ 36,  97,  81]],\n",
       "\n",
       "        [[ 62, 112,  82],\n",
       "         [ 65, 115,  85],\n",
       "         [ 69, 119,  89],\n",
       "         ...,\n",
       "         [ 15,  73,  58],\n",
       "         [ 25,  83,  68],\n",
       "         [ 34,  92,  77]],\n",
       "\n",
       "        ...,\n",
       "\n",
       "        [[ 26,  68,  40],\n",
       "         [ 37,  78,  50],\n",
       "         [ 28,  68,  40],\n",
       "         ...,\n",
       "         [ 90, 166, 145],\n",
       "         [ 99, 176, 155],\n",
       "         [ 93, 169, 148]],\n",
       "\n",
       "        [[ 26,  67,  39],\n",
       "         [ 37,  78,  50],\n",
       "         [ 28,  68,  40],\n",
       "         ...,\n",
       "         [ 80, 157, 136],\n",
       "         [ 93, 170, 149],\n",
       "         [ 92, 169, 148]],\n",
       "\n",
       "        [[ 25,  67,  38],\n",
       "         [ 37,  77,  49],\n",
       "         [ 28,  68,  40],\n",
       "         ...,\n",
       "         [ 73, 150, 129],\n",
       "         [ 88, 166, 144],\n",
       "         [ 92, 169, 148]]],\n",
       "\n",
       "\n",
       "       [[[227, 190, 168],\n",
       "         [227, 190, 168],\n",
       "         [227, 190, 168],\n",
       "         ...,\n",
       "         [225, 207, 196],\n",
       "         [217, 196, 185],\n",
       "         [232, 210, 199]],\n",
       "\n",
       "        [[227, 190, 168],\n",
       "         [227, 190, 168],\n",
       "         [227, 190, 168],\n",
       "         ...,\n",
       "         [228, 209, 198],\n",
       "         [222, 201, 190],\n",
       "         [233, 211, 200]],\n",
       "\n",
       "        [[227, 190, 168],\n",
       "         [227, 190, 168],\n",
       "         [227, 190, 168],\n",
       "         ...,\n",
       "         [229, 210, 199],\n",
       "         [227, 205, 194],\n",
       "         [234, 212, 201]],\n",
       "\n",
       "        ...,\n",
       "\n",
       "        [[ 37,  56,  63],\n",
       "         [ 33,  52,  58],\n",
       "         [ 48,  66,  73],\n",
       "         ...,\n",
       "         [ 56,  71,  78],\n",
       "         [ 24,  37,  42],\n",
       "         [ 30,  42,  46]],\n",
       "\n",
       "        [[ 27,  46,  53],\n",
       "         [ 24,  43,  50],\n",
       "         [ 39,  57,  64],\n",
       "         ...,\n",
       "         [ 52,  68,  74],\n",
       "         [ 12,  25,  30],\n",
       "         [ 30,  42,  46]],\n",
       "\n",
       "        [[ 16,  35,  42],\n",
       "         [ 16,  35,  42],\n",
       "         [ 26,  44,  51],\n",
       "         ...,\n",
       "         [ 49,  65,  71],\n",
       "         [  3,  16,  21],\n",
       "         [ 29,  41,  45]]],\n",
       "\n",
       "\n",
       "       ...,\n",
       "\n",
       "\n",
       "       [[[220, 208, 196],\n",
       "         [220, 208, 196],\n",
       "         [220, 208, 196],\n",
       "         ...,\n",
       "         [222, 211, 197],\n",
       "         [221, 211, 198],\n",
       "         [221, 212, 198]],\n",
       "\n",
       "        [[220, 208, 196],\n",
       "         [220, 208, 196],\n",
       "         [220, 208, 196],\n",
       "         ...,\n",
       "         [221, 211, 197],\n",
       "         [220, 211, 197],\n",
       "         [221, 212, 198]],\n",
       "\n",
       "        [[220, 208, 196],\n",
       "         [220, 208, 196],\n",
       "         [220, 208, 196],\n",
       "         ...,\n",
       "         [220, 211, 197],\n",
       "         [220, 211, 197],\n",
       "         [221, 212, 198]],\n",
       "\n",
       "        ...,\n",
       "\n",
       "        [[ 98, 171, 191],\n",
       "         [ 82, 155, 175],\n",
       "         [ 81, 154, 174],\n",
       "         ...,\n",
       "         [ 83, 154, 171],\n",
       "         [ 93, 163, 181],\n",
       "         [ 99, 169, 188]],\n",
       "\n",
       "        [[ 94, 167, 187],\n",
       "         [ 81, 154, 174],\n",
       "         [ 78, 151, 171],\n",
       "         ...,\n",
       "         [ 78, 148, 165],\n",
       "         [ 91, 160, 178],\n",
       "         [ 98, 167, 186]],\n",
       "\n",
       "        [[ 92, 165, 185],\n",
       "         [ 81, 154, 174],\n",
       "         [ 76, 149, 169],\n",
       "         ...,\n",
       "         [ 74, 144, 161],\n",
       "         [ 88, 158, 176],\n",
       "         [ 96, 165, 184]]],\n",
       "\n",
       "\n",
       "       [[[  1,   1,   1],\n",
       "         [  1,   1,   1],\n",
       "         [  1,   1,   1],\n",
       "         ...,\n",
       "         [  1,   1,   1],\n",
       "         [  1,   1,   1],\n",
       "         [  1,   1,   1]],\n",
       "\n",
       "        [[  1,   1,   1],\n",
       "         [  1,   1,   1],\n",
       "         [  1,   1,   1],\n",
       "         ...,\n",
       "         [  1,   1,   1],\n",
       "         [  1,   1,   1],\n",
       "         [  1,   1,   1]],\n",
       "\n",
       "        [[  1,   1,   1],\n",
       "         [  1,   1,   1],\n",
       "         [  1,   1,   1],\n",
       "         ...,\n",
       "         [  1,   1,   1],\n",
       "         [  1,   1,   1],\n",
       "         [  1,   1,   1]],\n",
       "\n",
       "        ...,\n",
       "\n",
       "        [[  1,   1,   1],\n",
       "         [  1,   1,   1],\n",
       "         [  1,   1,   1],\n",
       "         ...,\n",
       "         [  1,   1,   1],\n",
       "         [  1,   1,   1],\n",
       "         [  1,   1,   1]],\n",
       "\n",
       "        [[  1,   1,   1],\n",
       "         [  1,   1,   1],\n",
       "         [  1,   1,   1],\n",
       "         ...,\n",
       "         [  1,   1,   1],\n",
       "         [  1,   1,   1],\n",
       "         [  1,   1,   1]],\n",
       "\n",
       "        [[  1,   1,   1],\n",
       "         [  1,   1,   1],\n",
       "         [  1,   1,   1],\n",
       "         ...,\n",
       "         [  1,   1,   1],\n",
       "         [  1,   1,   1],\n",
       "         [  1,   1,   1]]],\n",
       "\n",
       "\n",
       "       [[[110, 154, 183],\n",
       "         [100, 144, 173],\n",
       "         [ 90, 132, 162],\n",
       "         ...,\n",
       "         [ 71, 126, 153],\n",
       "         [ 64, 115, 139],\n",
       "         [ 73, 118, 141]],\n",
       "\n",
       "        [[110, 154, 183],\n",
       "         [101, 145, 174],\n",
       "         [ 93, 135, 165],\n",
       "         ...,\n",
       "         [ 77, 132, 159],\n",
       "         [ 70, 121, 144],\n",
       "         [ 75, 119, 142]],\n",
       "\n",
       "        [[109, 154, 182],\n",
       "         [103, 147, 176],\n",
       "         [ 97, 140, 169],\n",
       "         ...,\n",
       "         [ 86, 141, 168],\n",
       "         [ 76, 127, 151],\n",
       "         [ 74, 119, 142]],\n",
       "\n",
       "        ...,\n",
       "\n",
       "        [[ 63, 120, 123],\n",
       "         [ 48, 105, 109],\n",
       "         [ 51, 106, 114],\n",
       "         ...,\n",
       "         [ 85, 143, 157],\n",
       "         [ 71, 129, 143],\n",
       "         [ 39,  95, 107]],\n",
       "\n",
       "        [[ 68, 126, 127],\n",
       "         [ 57, 115, 118],\n",
       "         [ 56, 113, 121],\n",
       "         ...,\n",
       "         [ 92, 150, 166],\n",
       "         [ 81, 137, 153],\n",
       "         [ 40,  95, 109]],\n",
       "\n",
       "        [[ 71, 131, 131],\n",
       "         [ 65, 124, 126],\n",
       "         [ 61, 119, 126],\n",
       "         ...,\n",
       "         [ 97, 154, 171],\n",
       "         [ 87, 144, 160],\n",
       "         [ 40,  96, 111]]]], dtype=uint8)"
      ]
     },
     "execution_count": 38,
     "metadata": {},
     "output_type": "execute_result"
    }
   ],
   "source": [
    "X"
   ]
  },
  {
   "cell_type": "code",
   "execution_count": 39,
   "metadata": {},
   "outputs": [],
   "source": [
    "pickle.dump(X,open('X.pkl','wb'))\n",
    "pickle.dump(Y,open('Y.pkl','wb'))"
   ]
  },
  {
   "cell_type": "code",
   "execution_count": 41,
   "metadata": {},
   "outputs": [],
   "source": [
    "X=pickle.load(open('X.pkl','rb'))#images\n",
    "Y=pickle.load(open('Y.pkl','rb'))#ilabels\n"
   ]
  },
  {
   "cell_type": "code",
   "execution_count": 47,
   "metadata": {},
   "outputs": [],
   "source": [
    "\n",
    "X=X/255 #Scacling"
   ]
  },
  {
   "cell_type": "code",
   "execution_count": 48,
   "metadata": {},
   "outputs": [
    {
     "data": {
      "text/plain": [
       "(97, 250, 250, 3)"
      ]
     },
     "execution_count": 48,
     "metadata": {},
     "output_type": "execute_result"
    }
   ],
   "source": [
    "X.shape"
   ]
  },
  {
   "cell_type": "code",
   "execution_count": 51,
   "metadata": {},
   "outputs": [],
   "source": [
    "from keras.models import Sequential\n",
    "from keras.layers import Conv2D, MaxPooling2D,Flatten,Dense\n"
   ]
  },
  {
   "cell_type": "code",
   "execution_count": 52,
   "metadata": {},
   "outputs": [],
   "source": [
    "model=Sequential()\n",
    "model.add(Conv2D(64,(3,3),activation='relu'))\n",
    "model.add(MaxPooling2D(2,2))\n",
    "\n",
    "model.add(Conv2D(64,(3,3),activation='relu'))\n",
    "model.add(MaxPooling2D(2,2))\n",
    "\n",
    "model.add(Flatten())"
   ]
  },
  {
   "cell_type": "code",
   "execution_count": 53,
   "metadata": {},
   "outputs": [],
   "source": [
    "model.add(Dense(128,input_shape=X.shape[1:],activation='relu'))\n",
    "model.add(Dense(2,activation='softmax'))"
   ]
  },
  {
   "cell_type": "code",
   "execution_count": 54,
   "metadata": {},
   "outputs": [],
   "source": [
    "model.compile(optimizer='adam',loss='sparse_categorical_crossentropy',metrics=['accuracy'])"
   ]
  },
  {
   "cell_type": "code",
   "execution_count": 56,
   "metadata": {},
   "outputs": [
    {
     "name": "stdout",
     "output_type": "stream",
     "text": [
      "Epoch 1/5\n",
      "3/3 [==============================] - 64s 4s/step - loss: 0.7023 - accuracy: 0.3886 - val_loss: 0.6932 - val_accuracy: 0.5000\n",
      "Epoch 2/5\n",
      "3/3 [==============================] - 7s 2s/step - loss: 0.6943 - accuracy: 0.5049 - val_loss: 0.6931 - val_accuracy: 0.5000\n",
      "Epoch 3/5\n",
      "3/3 [==============================] - 7s 2s/step - loss: 0.6928 - accuracy: 0.5783 - val_loss: 0.6950 - val_accuracy: 0.5000\n",
      "Epoch 4/5\n",
      "3/3 [==============================] - 7s 2s/step - loss: 0.6989 - accuracy: 0.4872 - val_loss: 0.6933 - val_accuracy: 0.5000\n",
      "Epoch 5/5\n",
      "3/3 [==============================] - 7s 2s/step - loss: 0.6959 - accuracy: 0.4043 - val_loss: 0.6931 - val_accuracy: 0.5000\n"
     ]
    },
    {
     "data": {
      "text/plain": [
       "<keras.callbacks.History at 0x12e711b6130>"
      ]
     },
     "execution_count": 56,
     "metadata": {},
     "output_type": "execute_result"
    }
   ],
   "source": [
    "model.fit(X,Y,epochs=5,validation_split=0.1)"
   ]
  },
  {
   "cell_type": "code",
   "execution_count": null,
   "metadata": {},
   "outputs": [],
   "source": []
  }
 ],
 "metadata": {
  "kernelspec": {
   "display_name": "Python 3",
   "language": "python",
   "name": "python3"
  },
  "language_info": {
   "codemirror_mode": {
    "name": "ipython",
    "version": 3
   },
   "file_extension": ".py",
   "mimetype": "text/x-python",
   "name": "python",
   "nbconvert_exporter": "python",
   "pygments_lexer": "ipython3",
   "version": "3.8.5"
  }
 },
 "nbformat": 4,
 "nbformat_minor": 4
}
